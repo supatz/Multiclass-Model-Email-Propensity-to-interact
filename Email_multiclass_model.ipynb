{
 "cells": [
  {
   "cell_type": "markdown",
   "metadata": {},
   "source": [
    "### Email Model: propensity to interact with email in next 30 days"
   ]
  },
  {
   "cell_type": "markdown",
   "metadata": {},
   "source": [
    "### Loading data through spark table"
   ]
  },
  {
   "cell_type": "code",
   "execution_count": 12,
   "metadata": {},
   "outputs": [],
   "source": [
    "sd_model_build = spark.sql(\"\"\"\n",
    "select \n",
    "customer_id\n",
    ",total_delivered_90d\n",
    ",max_open_dt_90d\n",
    ",max_click_dt_90d\n",
    ",unique_opens_90d\n",
    ",unique_clicks_90d\n",
    ",total_delivered_30d\n",
    ",max_open_dt_30d\n",
    ",max_click_dt_30d\n",
    ",unique_opens_30d\n",
    ",unique_clicks_30d\n",
    ",total_delivered_7d\n",
    ",max_open_dt_7d\n",
    ",max_click_dt_7d\n",
    ",unique_opens_7d\n",
    ",unique_clicks_7d\n",
    ",pv_count_7_days\n",
    ",pv_count_30_days\n",
    ",pv_count_90_days\n",
    ",atc_count_7_days\n",
    ",atc_count_30_days\n",
    ",atc_count_90_days\n",
    ",search_counts_7d \n",
    ",search_counts_30d \n",
    ",search_counts_90d \n",
    ",homepage_counts_7d\n",
    ",homepage_counts_30d\n",
    ",homepage_counts_90d\n",
    ",frequency\n",
    ",recency\n",
    ",monetary\n",
    ",app_frequency\n",
    ",app_recency\n",
    ",app_monetary\n",
    ",email_status_flag as label\n",
    ",mktng_mail_opt_out_flag\n",
    "\n",
    "from table_1\n",
    "where customer_id is not null\n",
    "\n",
    "\"\"\")"
   ]
  },
  {
   "cell_type": "markdown",
   "metadata": {},
   "source": [
    "#### basic checks"
   ]
  },
  {
   "cell_type": "code",
   "execution_count": 7,
   "metadata": {},
   "outputs": [
    {
     "data": {
      "text/html": [
       "<div>\n",
       "<style scoped>\n",
       "    .dataframe tbody tr th:only-of-type {\n",
       "        vertical-align: middle;\n",
       "    }\n",
       "\n",
       "    .dataframe tbody tr th {\n",
       "        vertical-align: top;\n",
       "    }\n",
       "\n",
       "    .dataframe thead th {\n",
       "        text-align: right;\n",
       "    }\n",
       "</style>\n",
       "<table border=\"1\" class=\"dataframe\">\n",
       "  <thead>\n",
       "    <tr style=\"text-align: right;\">\n",
       "      <th></th>\n",
       "      <th>a</th>\n",
       "      <th>b</th>\n",
       "      <th>c</th>\n",
       "      <th>d</th>\n",
       "      <th>e</th>\n",
       "      <th>f</th>\n",
       "    </tr>\n",
       "  </thead>\n",
       "  <tbody>\n",
       "    <tr>\n",
       "      <th>0</th>\n",
       "      <td>1.0</td>\n",
       "      <td>1.0</td>\n",
       "      <td>1.0</td>\n",
       "      <td>1.0</td>\n",
       "      <td>1.0</td>\n",
       "      <td>1.0</td>\n",
       "    </tr>\n",
       "  </tbody>\n",
       "</table>\n",
       "</div>"
      ],
      "text/plain": [
       "     a    b    c    d    e    f\n",
       "0  1.0  1.0  1.0  1.0  1.0  1.0"
      ]
     },
     "execution_count": 7,
     "metadata": {},
     "output_type": "execute_result"
    }
   ],
   "source": [
    "spark.sql(\"\"\"select \n",
    "max(unique_opens_90d) as a, \n",
    "max(unique_clicks_90d) as b, \n",
    "max(unique_opens_30d) as c\n",
    ", max(unique_clicks_30d) as d\n",
    ", max(unique_opens_7d) as e\n",
    ", max(unique_clicks_7d) as f\n",
    "from table_1\"\"\").toPandas()"
   ]
  },
  {
   "cell_type": "code",
   "execution_count": 14,
   "metadata": {},
   "outputs": [
    {
     "data": {
      "text/html": [
       "<div>\n",
       "<style scoped>\n",
       "    .dataframe tbody tr th:only-of-type {\n",
       "        vertical-align: middle;\n",
       "    }\n",
       "\n",
       "    .dataframe tbody tr th {\n",
       "        vertical-align: top;\n",
       "    }\n",
       "\n",
       "    .dataframe thead th {\n",
       "        text-align: right;\n",
       "    }\n",
       "</style>\n",
       "<table border=\"1\" class=\"dataframe\">\n",
       "  <thead>\n",
       "    <tr style=\"text-align: right;\">\n",
       "      <th></th>\n",
       "      <th>count(1)</th>\n",
       "    </tr>\n",
       "  </thead>\n",
       "  <tbody>\n",
       "    <tr>\n",
       "      <th>0</th>\n",
       "      <td>12829111</td>\n",
       "    </tr>\n",
       "  </tbody>\n",
       "</table>\n",
       "</div>"
      ],
      "text/plain": [
       "   count(1)\n",
       "0  12829111"
      ]
     },
     "execution_count": 14,
     "metadata": {},
     "output_type": "execute_result"
    }
   ],
   "source": [
    "## Checking Distribution\n",
    "spark.sql(\"\"\"select count(*)\n",
    "from table_1\"\"\").toPandas()"
   ]
  },
  {
   "cell_type": "code",
   "execution_count": 15,
   "metadata": {},
   "outputs": [
    {
     "data": {
      "text/html": [
       "<div>\n",
       "<style scoped>\n",
       "    .dataframe tbody tr th:only-of-type {\n",
       "        vertical-align: middle;\n",
       "    }\n",
       "\n",
       "    .dataframe tbody tr th {\n",
       "        vertical-align: top;\n",
       "    }\n",
       "\n",
       "    .dataframe thead th {\n",
       "        text-align: right;\n",
       "    }\n",
       "</style>\n",
       "<table border=\"1\" class=\"dataframe\">\n",
       "  <thead>\n",
       "    <tr style=\"text-align: right;\">\n",
       "      <th></th>\n",
       "      <th>(CAST((count(1) * CAST(100 AS BIGINT)) AS DOUBLE) / CAST(12829111 AS DOUBLE))</th>\n",
       "      <th>email_status_flag</th>\n",
       "    </tr>\n",
       "  </thead>\n",
       "  <tbody>\n",
       "    <tr>\n",
       "      <th>0</th>\n",
       "      <td>58.392994</td>\n",
       "      <td>0</td>\n",
       "    </tr>\n",
       "    <tr>\n",
       "      <th>1</th>\n",
       "      <td>30.691363</td>\n",
       "      <td>1</td>\n",
       "    </tr>\n",
       "    <tr>\n",
       "      <th>2</th>\n",
       "      <td>10.915643</td>\n",
       "      <td>2</td>\n",
       "    </tr>\n",
       "  </tbody>\n",
       "</table>\n",
       "</div>"
      ],
      "text/plain": [
       "   (CAST((count(1) * CAST(100 AS BIGINT)) AS DOUBLE) / CAST(12829111 AS DOUBLE))  \\\n",
       "0                                          58.392994                               \n",
       "1                                          30.691363                               \n",
       "2                                          10.915643                               \n",
       "\n",
       "  email_status_flag  \n",
       "0                 0  \n",
       "1                 1  \n",
       "2                 2  "
      ]
     },
     "execution_count": 15,
     "metadata": {},
     "output_type": "execute_result"
    }
   ],
   "source": [
    "## Checking Distribution\n",
    "spark.sql(\"\"\"select count(*)*100/12829111, email_status_flag\n",
    "from table_1\n",
    "group by email_status_flag\"\"\").toPandas()\n",
    "\n",
    "\"\"\"\n",
    "0 <- Ignored the mail\n",
    "1 <- Opened the mail\n",
    "2 <- Open&Clicked the mail\n",
    "\"\"\""
   ]
  },
  {
   "cell_type": "code",
   "execution_count": 16,
   "metadata": {},
   "outputs": [],
   "source": [
    "## Initialize label indexer to be used in the pipeline later - Stage 1\n",
    "labelIndexer = StringIndexer(inputCol=\"label\", outputCol=\"indexedLabel\").setHandleInvalid(\"skip\").fit(sd_model_build)"
   ]
  },
  {
   "cell_type": "code",
   "execution_count": 17,
   "metadata": {},
   "outputs": [],
   "source": [
    "features = [\n",
    "'customer_id',\n",
    "'total_delivered_90d',\n",
    "'max_open_dt_90d',\n",
    "'max_click_dt_90d',\n",
    "'unique_opens_90d',\n",
    "'unique_clicks_90d',\n",
    "'total_delivered_30d',\n",
    "'max_open_dt_30d',\n",
    "'max_click_dt_30d',\n",
    "'unique_opens_30d',\n",
    "'unique_clicks_30d',\n",
    "'total_delivered_7d',\n",
    "'max_open_dt_7d',\n",
    "'max_click_dt_7d',\n",
    "'unique_opens_7d',\n",
    "'unique_clicks_7d',\n",
    "'pv_count_7_days',\n",
    "'pv_count_30_days',\n",
    "'pv_count_90_days',\n",
    "'atc_count_7_days',\n",
    "'atc_count_30_days',\n",
    "'atc_count_90_days',\n",
    "'search_counts_7d',\n",
    "'search_counts_30d',\n",
    "'search_counts_90d',\n",
    "'homepage_counts_7d',\n",
    "'homepage_counts_30d',\n",
    "'homepage_counts_90d',\n",
    "'frequency',\n",
    "'recency',\n",
    "'monetary',\n",
    "'app_frequency',\n",
    "'app_recency',\n",
    "'app_monetary',\n",
    "'label',\n",
    "'mktng_mail_opt_out_flag'\n",
    "\n",
    "]"
   ]
  },
  {
   "cell_type": "code",
   "execution_count": 18,
   "metadata": {},
   "outputs": [],
   "source": [
    "## Remove primary keys and other flags that are not needed here - Stage 2\n",
    "cols_now = list(set(features)-set(['customer_id','label']))#remove indexed label?b\n",
    "assembler_features = VectorAssembler(inputCols=cols_now, outputCol='features')"
   ]
  },
  {
   "cell_type": "code",
   "execution_count": 19,
   "metadata": {},
   "outputs": [],
   "source": [
    "## Creating a dataset with features - format needed as an input when using Pipeline\n",
    "sd_model_build_features_pipe=sd_model_build.select(list(set(features) - set(['customer_id'])))"
   ]
  },
  {
   "cell_type": "code",
   "execution_count": 20,
   "metadata": {},
   "outputs": [],
   "source": [
    "## Replacing NAs with 0 - need to fix this\n",
    "sd_model_build = sd_model_build.fillna(0)"
   ]
  },
  {
   "cell_type": "code",
   "execution_count": 21,
   "metadata": {},
   "outputs": [],
   "source": [
    "## Caching the features and splitting Test and Train\n",
    "#allData.cache()\n",
    "trainingData, testData = sd_model_build.randomSplit([0.7,0.3], seed=0)"
   ]
  },
  {
   "cell_type": "code",
   "execution_count": 22,
   "metadata": {},
   "outputs": [
    {
     "data": {
      "text/plain": [
       "559574"
      ]
     },
     "execution_count": 22,
     "metadata": {},
     "output_type": "execute_result"
    }
   ],
   "source": [
    "trainingData.count()"
   ]
  },
  {
   "cell_type": "markdown",
   "metadata": {},
   "source": [
    "### Training Data"
   ]
  },
  {
   "cell_type": "code",
   "execution_count": 23,
   "metadata": {},
   "outputs": [],
   "source": [
    "# Train a RandomForest model - Stage 3\n",
    "rf_multiclass_mv = RandomForestClassifier(labelCol=\"indexedLabel\", featuresCol=\"features\",numTrees=300, \n",
    "        maxDepth=10, minInstancesPerNode=150,\n",
    "        featureSubsetStrategy=\"auto\")"
   ]
  },
  {
   "cell_type": "code",
   "execution_count": 24,
   "metadata": {},
   "outputs": [
    {
     "data": {
      "text/plain": [
       "RandomForestClassifier_4dd0b476c1f21e74c083"
      ]
     },
     "execution_count": 24,
     "metadata": {},
     "output_type": "execute_result"
    }
   ],
   "source": [
    "## Check model object initialized\n",
    "rf_multiclass_mv"
   ]
  },
  {
   "cell_type": "code",
   "execution_count": 25,
   "metadata": {},
   "outputs": [],
   "source": [
    "# Convert indexed labels back to original labels - Stage 4\n",
    "labelConverter = IndexToString(inputCol=\"prediction\", outputCol=\"predictedLabel\",\n",
    "                                   labels=labelIndexer.labels)"
   ]
  },
  {
   "cell_type": "code",
   "execution_count": 26,
   "metadata": {},
   "outputs": [],
   "source": [
    "# Putting indexers and model in a Pipeline - Check all stages here\n",
    "pipeline = Pipeline(stages=[labelIndexer, assembler_features, rf_multiclass_mv, labelConverter])"
   ]
  },
  {
   "cell_type": "markdown",
   "metadata": {},
   "source": [
    "### Feature Imp"
   ]
  },
  {
   "cell_type": "code",
   "execution_count": 17,
   "metadata": {},
   "outputs": [],
   "source": [
    "# Putting indexer and assembler features\n",
    "pipeline1 = Pipeline(stages=[labelIndexer, assembler_features])\n",
    "allData1 = pipeline1.fit(trainingData).transform(trainingData)"
   ]
  },
  {
   "cell_type": "code",
   "execution_count": null,
   "metadata": {},
   "outputs": [],
   "source": [
    "# Fitting the model\n",
    "fit_classifier = rf_multiclass_mv.fit(allData1)\n",
    "feature_imp_df_class= pd.DataFrame()"
   ]
  },
  {
   "cell_type": "code",
   "execution_count": null,
   "metadata": {},
   "outputs": [],
   "source": [
    "# Creating the features df\n",
    "feature_df = cols_now\n",
    "feature_df = pd.DataFrame()\n",
    "feature_df['feature']=cols_now\n",
    "feature_df.reset_index(inplace=True)\n",
    "feature_df['index'] = feature_df.index"
   ]
  },
  {
   "cell_type": "code",
   "execution_count": null,
   "metadata": {},
   "outputs": [],
   "source": [
    "#Getting the feature importance\n",
    "feature_imp_df_class['importance'] = list(fit_classifier.featureImportances)\n",
    "feature_imp_df_class.reset_index(inplace=True)\n",
    "feature_imp_df_class['index'] = feature_imp_df_class.index\n",
    "\n",
    "class_feature_imp = pd.merge(feature_imp_df_class,feature_df,on='index',how='inner')\n",
    "class_feature_imp = class_feature_imp.sort_values('importance', ascending=False)\n",
    "class_feature_imp"
   ]
  },
  {
   "cell_type": "code",
   "execution_count": null,
   "metadata": {},
   "outputs": [],
   "source": [
    "# Saving it as csv\n",
    "class_feature_imp.to_csv('fea_imp.csv', index=False)"
   ]
  },
  {
   "cell_type": "markdown",
   "metadata": {},
   "source": [
    "### Training the model"
   ]
  },
  {
   "cell_type": "code",
   "execution_count": 27,
   "metadata": {},
   "outputs": [],
   "source": [
    "## Pipelining the features - to be fed to RF model\n",
    "allData = pipeline.fit(trainingData)\n",
    "trained_model = allData.transform(trainingData)"
   ]
  },
  {
   "cell_type": "code",
   "execution_count": 28,
   "metadata": {},
   "outputs": [
    {
     "data": {
      "text/plain": [
       "[Row(customer_id=28051, total_delivered_90d=41, max_open_dt_90d=1, max_click_dt_90d=13, unique_opens_90d=0.7073170731707317, unique_clicks_90d=0.024390243902439025, total_delivered_30d=14, max_open_dt_30d=1, max_click_dt_30d=143, unique_opens_30d=0.14285714285714285, unique_clicks_30d=0.0, total_delivered_7d=4, max_open_dt_7d=1, max_click_dt_7d=143, unique_opens_7d=0.25, unique_clicks_7d=0.0, pv_count_7_days=0, pv_count_30_days=0, pv_count_90_days=0, atc_count_7_days=0, atc_count_30_days=0, atc_count_90_days=0, search_counts_7d=0, search_counts_30d=0, search_counts_90d=0, homepage_counts_7d=0, homepage_counts_30d=0, homepage_counts_90d=0, frequency=0, recency=0, monetary=0.0, app_frequency=0, app_recency=0, app_monetary=0.0, label=u'1', mktng_mail_opt_out_flag=0, indexedLabel=0.0, features=SparseVector(34, {1: 0.0244, 2: 1.0, 9: 0.25, 12: 0.7073, 14: 1.0, 17: 41.0, 18: 143.0, 19: 143.0, 23: 4.0, 25: 13.0, 27: 14.0, 28: 0.1429, 30: 1.0}), rawPrediction=DenseVector([207.2717, 56.0757, 36.6526]), probability=DenseVector([0.6909, 0.1869, 0.1222]), prediction=0.0, predictedLabel=u'1')]"
      ]
     },
     "execution_count": 28,
     "metadata": {},
     "output_type": "execute_result"
    }
   ],
   "source": [
    "# Checking the entries in trained model\n",
    "trained_model.head(1)"
   ]
  },
  {
   "cell_type": "code",
   "execution_count": 29,
   "metadata": {},
   "outputs": [
    {
     "data": {
      "text/html": [
       "<div>\n",
       "<style scoped>\n",
       "    .dataframe tbody tr th:only-of-type {\n",
       "        vertical-align: middle;\n",
       "    }\n",
       "\n",
       "    .dataframe tbody tr th {\n",
       "        vertical-align: top;\n",
       "    }\n",
       "\n",
       "    .dataframe thead th {\n",
       "        text-align: right;\n",
       "    }\n",
       "</style>\n",
       "<table border=\"1\" class=\"dataframe\">\n",
       "  <thead>\n",
       "    <tr style=\"text-align: right;\">\n",
       "      <th></th>\n",
       "      <th>label</th>\n",
       "      <th>indexedLabel</th>\n",
       "      <th>count</th>\n",
       "      <th>distribution</th>\n",
       "    </tr>\n",
       "  </thead>\n",
       "  <tbody>\n",
       "    <tr>\n",
       "      <th>0</th>\n",
       "      <td>0</td>\n",
       "      <td>2.0</td>\n",
       "      <td>69325</td>\n",
       "      <td>12.388889</td>\n",
       "    </tr>\n",
       "    <tr>\n",
       "      <th>1</th>\n",
       "      <td>1</td>\n",
       "      <td>0.0</td>\n",
       "      <td>329423</td>\n",
       "      <td>58.870319</td>\n",
       "    </tr>\n",
       "    <tr>\n",
       "      <th>2</th>\n",
       "      <td>2</td>\n",
       "      <td>1.0</td>\n",
       "      <td>160826</td>\n",
       "      <td>28.740792</td>\n",
       "    </tr>\n",
       "  </tbody>\n",
       "</table>\n",
       "</div>"
      ],
      "text/plain": [
       "  label  indexedLabel   count  distribution\n",
       "0     0           2.0   69325     12.388889\n",
       "1     1           0.0  329423     58.870319\n",
       "2     2           1.0  160826     28.740792"
      ]
     },
     "execution_count": 29,
     "metadata": {},
     "output_type": "execute_result"
    }
   ],
   "source": [
    "#Distribution for each label for trained data\n",
    "mapping_train=trained_model.select('label','indexedLabel')\n",
    "mapping_train=mapping_train.toPandas()\n",
    "mapping_train_df=mapping_train.groupby(['label','indexedLabel']).size().reset_index().rename(columns={0:'count'})\n",
    "mapping_train_df['distribution']=mapping_train_df['count']*100/sum(mapping_train_df['count'])\n",
    "mapping_train_df"
   ]
  },
  {
   "cell_type": "code",
   "execution_count": 30,
   "metadata": {},
   "outputs": [],
   "source": [
    "# Select (prediction, true label) and compute test error\n",
    "evaluator = MulticlassClassificationEvaluator(\n",
    "    labelCol=\"indexedLabel\", predictionCol=\"prediction\", metricName=\"accuracy\")\n",
    "accuracy_train = evaluator.evaluate(trained_model)\n",
    "#print(\"Train Error = %g\" % (1.0 - accuracy_train))"
   ]
  },
  {
   "cell_type": "code",
   "execution_count": 31,
   "metadata": {},
   "outputs": [],
   "source": [
    "# Select (prediction, true label) and compute weighted precision\n",
    "evaluator = MulticlassClassificationEvaluator(\n",
    "    labelCol=\"indexedLabel\", predictionCol=\"prediction\", metricName=\"weightedPrecision\")\n",
    "wp_train = evaluator.evaluate(trained_model)\n",
    "#print(\"weighted Precision = %g\" % wp_train)"
   ]
  },
  {
   "cell_type": "code",
   "execution_count": 32,
   "metadata": {},
   "outputs": [],
   "source": [
    "# Select (prediction, true label) and compute weighted recall\n",
    "evaluator = MulticlassClassificationEvaluator(\n",
    "    labelCol=\"indexedLabel\", predictionCol=\"prediction\", metricName=\"weightedRecall\")\n",
    "recall_train = evaluator.evaluate(trained_model)\n",
    "#print(\"weighted recall = %g\" % recall_train)"
   ]
  },
  {
   "cell_type": "code",
   "execution_count": 33,
   "metadata": {},
   "outputs": [
    {
     "name": "stdout",
     "output_type": "stream",
     "text": [
      "Accuracy = 0.748536\n",
      "Train Error = 0.251464\n",
      "weighted Precision = 0.640681\n",
      "weighted recall = 0.648536\n"
     ]
    }
   ],
   "source": [
    "# Overall diagnostics - accuracy, weighted Precision, Weighted Recall(for trained data)\n",
    "print(\"Accuracy = %g\" % accuracy_train)\n",
    "print(\"Train Error = %g\" % (1.0 - accuracy_train))\n",
    "print(\"weighted Precision = %g\" % wp_train) \n",
    "print(\"weighted recall = %g\" % recall_train)"
   ]
  },
  {
   "cell_type": "markdown",
   "metadata": {},
   "source": [
    "## Predicting on test data"
   ]
  },
  {
   "cell_type": "code",
   "execution_count": 34,
   "metadata": {},
   "outputs": [],
   "source": [
    "# Prediction on test data\n",
    "predictions = allData.transform(testData)"
   ]
  },
  {
   "cell_type": "code",
   "execution_count": 35,
   "metadata": {
    "scrolled": true
   },
   "outputs": [
    {
     "data": {
      "text/plain": [
       "Row(customer_id=22402, total_delivered_90d=35, max_open_dt_90d=1, max_click_dt_90d=8, unique_opens_90d=0.8, unique_clicks_90d=0.02857142857142857, total_delivered_30d=12, max_open_dt_30d=1, max_click_dt_30d=143, unique_opens_30d=0.8333333333333334, unique_clicks_30d=0.0, total_delivered_7d=3, max_open_dt_7d=1, max_click_dt_7d=143, unique_opens_7d=1.0, unique_clicks_7d=0.0, pv_count_7_days=0, pv_count_30_days=0, pv_count_90_days=0, atc_count_7_days=0, atc_count_30_days=0, atc_count_90_days=0, search_counts_7d=0, search_counts_30d=0, search_counts_90d=0, homepage_counts_7d=0, homepage_counts_30d=0, homepage_counts_90d=0, frequency=0, recency=0, monetary=0.0, app_frequency=0, app_recency=0, app_monetary=0.0, label=u'2', mktng_mail_opt_out_flag=0, indexedLabel=1.0, features=SparseVector(34, {1: 0.0286, 2: 1.0, 9: 1.0, 12: 0.8, 14: 1.0, 17: 35.0, 18: 143.0, 19: 143.0, 23: 3.0, 25: 8.0, 27: 12.0, 28: 0.8333, 30: 1.0}), rawPrediction=DenseVector([239.2746, 51.0395, 9.6858]), probability=DenseVector([0.7976, 0.1701, 0.0323]), prediction=0.0, predictedLabel=u'1')"
      ]
     },
     "execution_count": 35,
     "metadata": {},
     "output_type": "execute_result"
    }
   ],
   "source": [
    "predictions.head()"
   ]
  },
  {
   "cell_type": "code",
   "execution_count": 36,
   "metadata": {},
   "outputs": [
    {
     "name": "stdout",
     "output_type": "stream",
     "text": [
      "Train Error = 0.351984\n"
     ]
    }
   ],
   "source": [
    "# Select (prediction, true label) and compute test error\n",
    "evaluator = MulticlassClassificationEvaluator(\n",
    "    labelCol=\"indexedLabel\", predictionCol=\"prediction\", metricName=\"accuracy\")\n",
    "accuracy_train = evaluator.evaluate(predictions)\n",
    "print(\"Train Error = %g\" % (1.0 - accuracy_train))"
   ]
  },
  {
   "cell_type": "code",
   "execution_count": 37,
   "metadata": {},
   "outputs": [
    {
     "name": "stdout",
     "output_type": "stream",
     "text": [
      "weighted Precision = 0.639972\n"
     ]
    }
   ],
   "source": [
    "# Select (prediction, true label) and compute weighted precision\n",
    "evaluator = MulticlassClassificationEvaluator(\n",
    "    labelCol=\"indexedLabel\", predictionCol=\"prediction\", metricName=\"weightedPrecision\")\n",
    "wp_train = evaluator.evaluate(predictions)\n",
    "print(\"weighted Precision = %g\" % wp_train)"
   ]
  },
  {
   "cell_type": "code",
   "execution_count": 38,
   "metadata": {},
   "outputs": [
    {
     "name": "stdout",
     "output_type": "stream",
     "text": [
      "weighted recall = 0.648016\n"
     ]
    }
   ],
   "source": [
    "# Select (prediction, true label) and compute weighted recall\n",
    "evaluator = MulticlassClassificationEvaluator(\n",
    "    labelCol=\"indexedLabel\", predictionCol=\"prediction\", metricName=\"weightedRecall\")\n",
    "recall_train = evaluator.evaluate(predictions)\n",
    "print(\"weighted recall = %g\" % recall_train)"
   ]
  },
  {
   "cell_type": "code",
   "execution_count": 39,
   "metadata": {
    "scrolled": true
   },
   "outputs": [
    {
     "name": "stdout",
     "output_type": "stream",
     "text": [
      "Accuracy = 0.748016\n",
      "Train Error = 0.251984\n",
      "weighted Precision = 0.639972\n",
      "weighted recall = 0.648016\n"
     ]
    }
   ],
   "source": [
    "# Overall diagnostics - accuracy, weighted Precision, Weighted Recall(for trained data)\n",
    "print(\"Accuracy = %g\" % accuracy_train)\n",
    "print(\"Train Error = %g\" % (1.0 - accuracy_train))\n",
    "print(\"weighted Precision = %g\" % wp_train) \n",
    "print(\"weighted recall = %g\" % recall_train)"
   ]
  },
  {
   "cell_type": "markdown",
   "metadata": {},
   "source": [
    "### Percentile plots over propensity to interact- predicted and actuals"
   ]
  },
  {
   "cell_type": "code",
   "execution_count": 113,
   "metadata": {},
   "outputs": [],
   "source": [
    "query = \"\"\"\n",
    "with base as \n",
    "(\n",
    "select customer_id, {mv}, {mv}_prb, ntile(100) over (order by {mv}_prb) as prop_decile\n",
    "from table_3\n",
    ")\n",
    "select prop_decile, count(customer_id) as cust_cnt, mean({mv}_prb) as avg_prop, mean({mv}) as avg_actual\n",
    "from base \n",
    "group by prop_decile\n",
    "order by prop_decile\n",
    "\"\"\""
   ]
  },
  {
   "cell_type": "code",
   "execution_count": 55,
   "metadata": {
    "scrolled": false
   },
   "outputs": [
    {
     "name": "stdout",
     "output_type": "stream",
     "text": [
      "Ignored\n",
      "\n",
      "with base as \n",
      "(\n",
      "select customer_id, Ignored, Ignored_prob, ntile(100) over (order by Ignored_prob desc) as prop_decile\n",
      "from vn000b4.actual_preds_multiclass_email_test\n",
      ")\n",
      "select prop_decile, count(customer_id) as cust_cnt, avg(Ignored_prob) as avg_prop, avg(Ignored) as avg_actual\n",
      "from base \n",
      "group by prop_decile\n",
      "order by prop_decile\n",
      "\n",
      "Open_n_Click\n",
      "\n",
      "with base as \n",
      "(\n",
      "select customer_id, Open_n_Click, Open_n_Click_prob, ntile(100) over (order by Open_n_Click_prob desc) as prop_decile\n",
      "from vn000b4.actual_preds_multiclass_email_test\n",
      ")\n",
      "select prop_decile, count(customer_id) as cust_cnt, avg(Open_n_Click_prob) as avg_prop, avg(Open_n_Click) as avg_actual\n",
      "from base \n",
      "group by prop_decile\n",
      "order by prop_decile\n",
      "\n",
      "Open\n",
      "\n",
      "with base as \n",
      "(\n",
      "select customer_id, Open, Open_prob, ntile(100) over (order by Open_prob desc) as prop_decile\n",
      "from vn000b4.actual_preds_multiclass_email_test\n",
      ")\n",
      "select prop_decile, count(customer_id) as cust_cnt, avg(Open_prob) as avg_prop, avg(Open) as avg_actual\n",
      "from base \n",
      "group by prop_decile\n",
      "order by prop_decile\n",
      "\n"
     ]
    },
    {
     "data": {
      "image/png": "[encoded data removed]",
      "text/plain": [
       "<Figure size 360x360 with 1 Axes>"
      ]
     },
     "metadata": {},
     "output_type": "display_data"
    },
    {
     "data": {
      "image/png": "[encoded data removed]",
      "text/plain": [
       "<Figure size 360x360 with 1 Axes>"
      ]
     },
     "metadata": {},
     "output_type": "display_data"
    },
    {
     "data": {
      "image/png": "[encoded data removed]",
      "text/plain": [
       "<Figure size 360x360 with 1 Axes>"
      ]
     },
     "metadata": {},
     "output_type": "display_data"
    }
   ],
   "source": [
    "import pylab\n",
    "for mv in mv_list:\n",
    "    print(mv)\n",
    "    query_final = query.format(mv=mv)\n",
    "    print(query_final)\n",
    "    df = spark.sql(query_final)\n",
    "    dataframe = df.toPandas()\n",
    "    deciles=dataframe['prop_decile'].tolist()\n",
    "    values_act=dataframe['avg_actual'].tolist()\n",
    "    values_pred=dataframe['avg_prop'].tolist()\n",
    "    plt.figure(figsize=(5,5))\n",
    "    plt.plot(deciles,values_act,label='actual')\n",
    "    plt.plot(deciles,values_pred,label='pred')\n",
    "    plt.xlabel(\"Deciles - Pred prob\")\n",
    "    plt.ylabel(\"Average of the metric\")\n",
    "    plt.title(mv)\n",
    "    plt.legend()\n",
    "    pylab.savefig(str(os.getcwd())+'/test_plots/'+mv+'.png')"
   ]
  },
  {
   "cell_type": "code",
   "execution_count": 40,
   "metadata": {},
   "outputs": [],
   "source": [
    "predictions_df = predictions.toPandas()"
   ]
  },
  {
   "cell_type": "markdown",
   "metadata": {},
   "source": [
    "### Confusion matrix"
   ]
  },
  {
   "cell_type": "code",
   "execution_count": 41,
   "metadata": {},
   "outputs": [
    {
     "data": {
      "text/plain": [
       "240426"
      ]
     },
     "execution_count": 41,
     "metadata": {},
     "output_type": "execute_result"
    }
   ],
   "source": [
    "pred_tot_cnt=predictions_df['customer_id'].count()\n",
    "pred_tot_cnt"
   ]
  },
  {
   "cell_type": "code",
   "execution_count": 42,
   "metadata": {
    "scrolled": false
   },
   "outputs": [],
   "source": [
    "# creating list for prediction label\n",
    "y_pred=predictions_df['prediction']"
   ]
  },
  {
   "cell_type": "code",
   "execution_count": 43,
   "metadata": {},
   "outputs": [
    {
     "data": {
      "text/plain": [
       "2.0"
      ]
     },
     "execution_count": 43,
     "metadata": {},
     "output_type": "execute_result"
    }
   ],
   "source": [
    "#checking for max indexed label\n",
    "y_pred.max()"
   ]
  },
  {
   "cell_type": "code",
   "execution_count": 44,
   "metadata": {},
   "outputs": [],
   "source": [
    "# creating list for indexed label\n",
    "y_actual=predictions_df['indexedLabel']"
   ]
  },
  {
   "cell_type": "code",
   "execution_count": 45,
   "metadata": {},
   "outputs": [],
   "source": [
    "# creating confusion matrix\n",
    "df_confusion = pd.crosstab(y_actual, y_pred)"
   ]
  },
  {
   "cell_type": "code",
   "execution_count": 47,
   "metadata": {},
   "outputs": [],
   "source": []
  },
  {
   "cell_type": "code",
   "execution_count": null,
   "metadata": {},
   "outputs": [],
   "source": []
  },
  {
   "cell_type": "markdown",
   "metadata": {},
   "source": [
    "## Calculating Recall and Precision"
   ]
  },
  {
   "cell_type": "code",
   "execution_count": 49,
   "metadata": {},
   "outputs": [
    {
     "data": {
      "text/plain": [
       "array([127621,  17827,  10352])"
      ]
     },
     "execution_count": 49,
     "metadata": {},
     "output_type": "execute_result"
    }
   ],
   "source": [
    "# Calculating True Predictions\n",
    "TP = np.diag(crosstab)\n",
    "TP"
   ]
  },
  {
   "cell_type": "code",
   "execution_count": 50,
   "metadata": {},
   "outputs": [
    {
     "data": {
      "text/plain": [
       "prediction\n",
       "0.0    66760\n",
       "1.0    10447\n",
       "2.0     7419\n",
       "dtype: int64"
      ]
     },
     "execution_count": 50,
     "metadata": {},
     "output_type": "execute_result"
    }
   ],
   "source": [
    "# False possitive\n",
    "FP = np.sum(crosstab, axis=0) - TP\n",
    "FP "
   ]
  },
  {
   "cell_type": "code",
   "execution_count": 51,
   "metadata": {},
   "outputs": [
    {
     "data": {
      "text/plain": [
       "indexedLabel\n",
       "0.0    14172\n",
       "1.0    51272\n",
       "2.0    19182\n",
       "dtype: int64"
      ]
     },
     "execution_count": 51,
     "metadata": {},
     "output_type": "execute_result"
    }
   ],
   "source": [
    "# False negative\n",
    "FN = np.sum(crosstab, axis=1) - TP\n",
    "FN"
   ]
  },
  {
   "cell_type": "code",
   "execution_count": 52,
   "metadata": {},
   "outputs": [
    {
     "data": {
      "text/plain": [
       "[31873, 160880]"
      ]
     },
     "execution_count": 52,
     "metadata": {},
     "output_type": "execute_result"
    }
   ],
   "source": [
    "# True negative\n",
    "num_classes = 2\n",
    "TN = []\n",
    "crosstab =crosstab.values\n",
    "for i in range(num_classes):\n",
    "    temp = np.delete(crosstab, i, 0)    # delete ith row\n",
    "    temp = np.delete(temp, i, 1)  # delete ith column\n",
    "    TN.append(sum(sum(temp)))\n",
    "TN "
   ]
  },
  {
   "cell_type": "code",
   "execution_count": 53,
   "metadata": {},
   "outputs": [
    {
     "name": "stdout",
     "output_type": "stream",
     "text": [
      "True\n",
      "True\n"
     ]
    }
   ],
   "source": [
    "# sum of all(TP,FP,FN,TN) should be equal to total base count\n",
    "for i in range(num_classes):\n",
    "    print(TP[i] + FP[i] + FN[i] + TN[i] == pred_tot_cnt)"
   ]
  },
  {
   "cell_type": "code",
   "execution_count": 54,
   "metadata": {},
   "outputs": [
    {
     "data": {
      "text/html": [
       "<div>\n",
       "<style scoped>\n",
       "    .dataframe tbody tr th:only-of-type {\n",
       "        vertical-align: middle;\n",
       "    }\n",
       "\n",
       "    .dataframe tbody tr th {\n",
       "        vertical-align: top;\n",
       "    }\n",
       "\n",
       "    .dataframe thead th {\n",
       "        text-align: right;\n",
       "    }\n",
       "</style>\n",
       "<table border=\"1\" class=\"dataframe\">\n",
       "  <thead>\n",
       "    <tr style=\"text-align: right;\">\n",
       "      <th></th>\n",
       "      <th>precision</th>\n",
       "    </tr>\n",
       "    <tr>\n",
       "      <th>prediction</th>\n",
       "      <th></th>\n",
       "    </tr>\n",
       "  </thead>\n",
       "  <tbody>\n",
       "    <tr>\n",
       "      <th>0.0</th>\n",
       "      <td>0.656551</td>\n",
       "    </tr>\n",
       "    <tr>\n",
       "      <th>1.0</th>\n",
       "      <td>0.630509</td>\n",
       "    </tr>\n",
       "    <tr>\n",
       "      <th>2.0</th>\n",
       "      <td>0.582522</td>\n",
       "    </tr>\n",
       "  </tbody>\n",
       "</table>\n",
       "</div>"
      ],
      "text/plain": [
       "            precision\n",
       "prediction           \n",
       "0.0          0.656551\n",
       "1.0          0.630509\n",
       "2.0          0.582522"
      ]
     },
     "execution_count": 54,
     "metadata": {},
     "output_type": "execute_result"
    }
   ],
   "source": [
    "# Calculating precision for each label\n",
    "precision = TP/(TP+FP)\n",
    "precision_pd=pd.DataFrame(precision)\n",
    "precision_pd.columns= ['precision']\n",
    "precision_pd"
   ]
  },
  {
   "cell_type": "code",
   "execution_count": 55,
   "metadata": {},
   "outputs": [
    {
     "data": {
      "text/html": [
       "<div>\n",
       "<style scoped>\n",
       "    .dataframe tbody tr th:only-of-type {\n",
       "        vertical-align: middle;\n",
       "    }\n",
       "\n",
       "    .dataframe tbody tr th {\n",
       "        vertical-align: top;\n",
       "    }\n",
       "\n",
       "    .dataframe thead th {\n",
       "        text-align: right;\n",
       "    }\n",
       "</style>\n",
       "<table border=\"1\" class=\"dataframe\">\n",
       "  <thead>\n",
       "    <tr style=\"text-align: right;\">\n",
       "      <th></th>\n",
       "      <th>recall</th>\n",
       "    </tr>\n",
       "    <tr>\n",
       "      <th>indexedLabel</th>\n",
       "      <th></th>\n",
       "    </tr>\n",
       "  </thead>\n",
       "  <tbody>\n",
       "    <tr>\n",
       "      <th>0.0</th>\n",
       "      <td>0.900051</td>\n",
       "    </tr>\n",
       "    <tr>\n",
       "      <th>1.0</th>\n",
       "      <td>0.257992</td>\n",
       "    </tr>\n",
       "    <tr>\n",
       "      <th>2.0</th>\n",
       "      <td>0.350511</td>\n",
       "    </tr>\n",
       "  </tbody>\n",
       "</table>\n",
       "</div>"
      ],
      "text/plain": [
       "                recall\n",
       "indexedLabel          \n",
       "0.0           0.900051\n",
       "1.0           0.257992\n",
       "2.0           0.350511"
      ]
     },
     "execution_count": 55,
     "metadata": {},
     "output_type": "execute_result"
    }
   ],
   "source": [
    "# Calculating recall for each label\n",
    "recall = TP/(TP+FN)\n",
    "recall_pd=pd.DataFrame(recall)\n",
    "recall_pd.columns= ['recall']\n",
    "recall_pd\n"
   ]
  },
  {
   "cell_type": "code",
   "execution_count": 56,
   "metadata": {},
   "outputs": [
    {
     "data": {
      "text/html": [
       "<div>\n",
       "<style scoped>\n",
       "    .dataframe tbody tr th:only-of-type {\n",
       "        vertical-align: middle;\n",
       "    }\n",
       "\n",
       "    .dataframe tbody tr th {\n",
       "        vertical-align: top;\n",
       "    }\n",
       "\n",
       "    .dataframe thead th {\n",
       "        text-align: right;\n",
       "    }\n",
       "</style>\n",
       "<table border=\"1\" class=\"dataframe\">\n",
       "  <thead>\n",
       "    <tr style=\"text-align: right;\">\n",
       "      <th></th>\n",
       "      <th>precision</th>\n",
       "      <th>recall</th>\n",
       "    </tr>\n",
       "    <tr>\n",
       "      <th>prediction</th>\n",
       "      <th></th>\n",
       "      <th></th>\n",
       "    </tr>\n",
       "  </thead>\n",
       "  <tbody>\n",
       "    <tr>\n",
       "      <th>0.0</th>\n",
       "      <td>0.656551</td>\n",
       "      <td>0.900051</td>\n",
       "    </tr>\n",
       "    <tr>\n",
       "      <th>1.0</th>\n",
       "      <td>0.630509</td>\n",
       "      <td>0.257992</td>\n",
       "    </tr>\n",
       "    <tr>\n",
       "      <th>2.0</th>\n",
       "      <td>0.582522</td>\n",
       "      <td>0.350511</td>\n",
       "    </tr>\n",
       "  </tbody>\n",
       "</table>\n",
       "</div>"
      ],
      "text/plain": [
       "            precision    recall\n",
       "prediction                     \n",
       "0.0          0.656551  0.900051\n",
       "1.0          0.630509  0.257992\n",
       "2.0          0.582522  0.350511"
      ]
     },
     "execution_count": 56,
     "metadata": {},
     "output_type": "execute_result"
    }
   ],
   "source": [
    "import pandas as pd\n",
    "Precision_recall_matrix=precision_pd.join(recall_pd)\n",
    "Precision_recall_matrix "
   ]
  },
  {
   "cell_type": "code",
   "execution_count": null,
   "metadata": {},
   "outputs": [],
   "source": []
  }
 ],
 "metadata": {
  "kernelspec": {
   "display_name": "Python 3",
   "language": "python",
   "name": "python3"
  },
  "language_info": {
   "codemirror_mode": {
    "name": "ipython",
    "version": 3
   },
   "file_extension": ".py",
   "mimetype": "text/x-python",
   "name": "python",
   "nbconvert_exporter": "python",
   "pygments_lexer": "ipython3",
   "version": "3.6.5"
  }
 },
 "nbformat": 4,
 "nbformat_minor": 2
}
